{
 "cells": [
  {
   "cell_type": "code",
   "execution_count": 1,
   "metadata": {},
   "outputs": [],
   "source": [
    "import torch\n",
    "import torchvision\n",
    "import torch.nn as nn\n",
    "import torch.nn.functional as F\n",
    "import torch.optim as optim\n",
    "from torch.utils.data import DataLoader, random_split\n",
    "from torchvision import datasets, transforms\n",
    "import torchvision.models as models\n",
    "\n",
    "import pandas as pd\n",
    "import numpy as np\n",
    "import matplotlib.pyplot as plt\n",
    "import seaborn as sns\n",
    "import os, shutil\n",
    "import warnings\n",
    "warnings.filterwarnings('ignore')\n",
    "\n",
    "# Ensures inline plotting\n",
    "%matplotlib inline\n"
   ]
  },
  {
   "cell_type": "code",
   "execution_count": 22,
   "metadata": {},
   "outputs": [
    {
     "name": "stdout",
     "output_type": "stream",
     "text": [
      "['Aerodactyl', 'Bulbasaur', 'Charmander', 'Dratini', 'Fearow', 'Meowth', 'Pikachu', 'Psyduck', 'Spearow', 'Squirtle']\n"
     ]
    }
   ],
   "source": [
    "folders=os.listdir(r\"E:\\Projets\\Datasets - Pytorch\\Pokemon Dataset\\Train\")\n",
    "print((folders))"
   ]
  },
  {
   "cell_type": "code",
   "execution_count": 23,
   "metadata": {},
   "outputs": [
    {
     "name": "stdout",
     "output_type": "stream",
     "text": [
      "['Test', 'Train', 'Val']\n"
     ]
    }
   ],
   "source": [
    "folder_path = r\"E:\\Projets\\Datasets - Pytorch\\Pokemon Dataset\"\n",
    "# this is to make Val folder in directory\n",
    "if not os.path.isdir(os.path.join(folder_path , 'Val')):\n",
    "  os.mkdir(os.path.join(folder_path , 'Val'))\n",
    "directory_contents = os.listdir(folder_path)\n",
    "print(directory_contents)"
   ]
  },
  {
   "cell_type": "code",
   "execution_count": 24,
   "metadata": {},
   "outputs": [],
   "source": [
    "# this to make sub folder in Val folder\n",
    "for c in folders:\n",
    "  p=os.path.join(r\"E:\\Projets\\Datasets - Pytorch\\Pokemon Dataset\\Val\",c)\n",
    "  if not os.path.isdir(p):\n",
    "    os.mkdir(p)"
   ]
  },
  {
   "cell_type": "code",
   "execution_count": 25,
   "metadata": {},
   "outputs": [
    {
     "name": "stdout",
     "output_type": "stream",
     "text": [
      "for training data:- \n",
      "Aerodactyl 80\n",
      "Bulbasaur 255\n",
      "Charmander 264\n",
      "Dratini 98\n",
      "Fearow 111\n",
      "Meowth 63\n",
      "Pikachu 268\n",
      "Psyduck 143\n",
      "Spearow 117\n",
      "Squirtle 248\n"
     ]
    }
   ],
   "source": [
    "print(\"for training data:- \")\n",
    "for f in folders:\n",
    "  path=os.path.join(r\"E:\\Projets\\Datasets - Pytorch\\Pokemon Dataset\\Train\" , f)\n",
    "  print(f+ \" \"+ str(len(os.listdir(path))))"
   ]
  },
  {
   "cell_type": "code",
   "execution_count": 2,
   "metadata": {},
   "outputs": [],
   "source": [
    "# this is to move 10% image from train to val folder\n",
    "# this is to run once if storage contain images in val then do not run this again as it will decrease the data from train data\n",
    "Split=0.9\n",
    "\n",
    "for f in os.listdir(r\"E:\\Projets\\Datasets - Pytorch\\Pokemon Dataset\\Train\"):\n",
    "  path = os.path.join(r\"E:\\Projets\\Datasets - Pytorch\\Pokemon Dataset\\Train\" , f)\n",
    "  imgs=os.listdir(path)\n",
    "  split_size= int(Split*len(imgs))\n",
    "  file_to_move=imgs[split_size:]\n",
    "#   print(len(file_to_move))\n",
    "#   print(file_to_move)\n",
    "\n",
    "  for img_f in file_to_move:\n",
    "    src=os.path.join(path,img_f)\n",
    "    dest=os.path.join(r\"E:\\Projets\\Datasets - Pytorch\\Pokemon Dataset\\Val\" ,f,img_f)\n",
    "    #print(src)\n",
    "    #print(dest)\n",
    "    shutil.move(src,dest)\n"
   ]
  },
  {
   "cell_type": "code",
   "execution_count": 3,
   "metadata": {},
   "outputs": [
    {
     "name": "stdout",
     "output_type": "stream",
     "text": [
      "for training data:- \n"
     ]
    },
    {
     "ename": "NameError",
     "evalue": "name 'folders' is not defined",
     "output_type": "error",
     "traceback": [
      "\u001b[1;31m---------------------------------------------------------------------------\u001b[0m",
      "\u001b[1;31mNameError\u001b[0m                                 Traceback (most recent call last)",
      "Cell \u001b[1;32mIn[3], line 2\u001b[0m\n\u001b[0;32m      1\u001b[0m \u001b[38;5;28mprint\u001b[39m(\u001b[38;5;124m\"\u001b[39m\u001b[38;5;124mfor training data:- \u001b[39m\u001b[38;5;124m\"\u001b[39m)\n\u001b[1;32m----> 2\u001b[0m \u001b[38;5;28;01mfor\u001b[39;00m f \u001b[38;5;129;01min\u001b[39;00m folders:\n\u001b[0;32m      3\u001b[0m   path\u001b[38;5;241m=\u001b[39mos\u001b[38;5;241m.\u001b[39mpath\u001b[38;5;241m.\u001b[39mjoin(\u001b[38;5;124mr\u001b[39m\u001b[38;5;124m\"\u001b[39m\u001b[38;5;124mE:\u001b[39m\u001b[38;5;124m\\\u001b[39m\u001b[38;5;124mProjets\u001b[39m\u001b[38;5;124m\\\u001b[39m\u001b[38;5;124mDatasets - Pytorch\u001b[39m\u001b[38;5;124m\\\u001b[39m\u001b[38;5;124mPokemon Dataset\u001b[39m\u001b[38;5;124m\\\u001b[39m\u001b[38;5;124mTrain\u001b[39m\u001b[38;5;124m\"\u001b[39m , f)\n\u001b[0;32m      4\u001b[0m   \u001b[38;5;28mprint\u001b[39m(f\u001b[38;5;241m+\u001b[39m \u001b[38;5;124m\"\u001b[39m\u001b[38;5;124m \u001b[39m\u001b[38;5;124m\"\u001b[39m\u001b[38;5;241m+\u001b[39m \u001b[38;5;28mstr\u001b[39m(\u001b[38;5;28mlen\u001b[39m(os\u001b[38;5;241m.\u001b[39mlistdir(path))))\n",
      "\u001b[1;31mNameError\u001b[0m: name 'folders' is not defined"
     ]
    }
   ],
   "source": [
    "print(\"for training data:- \")\n",
    "for f in folders:\n",
    "  path=os.path.join(r\"E:\\Projets\\Datasets - Pytorch\\Pokemon Dataset\\Train\" , f)\n",
    "  print(f+ \" \"+ str(len(os.listdir(path))))\n",
    "print(\"\")\n",
    "print(\"for vaidation data:- \")\n",
    "\n",
    "for f in folders:\n",
    "  path=os.path.join(r\"E:\\Projets\\Datasets - Pytorch\\Pokemon Dataset\\Val\" , f)\n",
    "  print(f+ \" \"+ str(len(os.listdir(path))))"
   ]
  },
  {
   "cell_type": "markdown",
   "metadata": {},
   "source": [
    "# DataLoader"
   ]
  },
  {
   "cell_type": "code",
   "execution_count": 64,
   "metadata": {},
   "outputs": [],
   "source": [
    "import torch.utils\n",
    "\n",
    "\n",
    "test_path = r\"E:\\Projets\\Datasets - Pytorch\\Pokemon Dataset\\Test\"\n",
    "train_path = r\"E:\\Projets\\Datasets - Pytorch\\Pokemon Dataset\\Train\"\n",
    "val_path = r\"E:\\Projets\\Datasets - Pytorch\\Pokemon Dataset\\Val\"\n",
    "data_transforms = transforms.Compose([\n",
    "    transforms.Resize(size=(224, 224)),\n",
    "    transforms.RandomRotation(20),\n",
    "    transforms.RandomHorizontalFlip(),\n",
    "    transforms.RandomVerticalFlip(),\n",
    "    transforms.GaussianBlur(kernel_size=(5, 9), sigma=(0.1, 5)),\n",
    "    transforms.ToTensor(),\n",
    "    transforms.Normalize(mean=[0.485, 0.456, 0.406], std=[0.229, 0.224, 0.225])\n",
    "])\n",
    "\n",
    "\n",
    "\n",
    "train_dataset = datasets.ImageFolder(root=train_path, transform=data_transforms)\n",
    "val_dataset = datasets.ImageFolder(root=val_path, transform=data_transforms)\n",
    "test_dataset = datasets.ImageFolder(root=test_path, transform=data_transforms)\n",
    "\n",
    "train_loader = DataLoader(train_dataset , batch_size= 32,shuffle=True)\n",
    "test_loader = DataLoader(test_dataset , batch_size= 32,shuffle=True)\n",
    "val_loader = DataLoader(val_dataset , batch_size= 32,shuffle=True)\n"
   ]
  },
  {
   "cell_type": "code",
   "execution_count": null,
   "metadata": {},
   "outputs": [],
   "source": []
  },
  {
   "cell_type": "code",
   "execution_count": 68,
   "metadata": {},
   "outputs": [
    {
     "name": "stdout",
     "output_type": "stream",
     "text": [
      "AlexNet(\n",
      "  (conv1): Conv2d(3, 64, kernel_size=(11, 11), stride=(4, 4), padding=(1, 1))\n",
      "  (pool1): MaxPool2d(kernel_size=2, stride=2, padding=1, dilation=1, ceil_mode=False)\n",
      "  (conv2): Conv2d(64, 128, kernel_size=(11, 11), stride=(1, 1), padding=(1, 1))\n",
      "  (pool2): MaxPool2d(kernel_size=2, stride=2, padding=1, dilation=1, ceil_mode=False)\n",
      "  (conv3): Conv2d(128, 256, kernel_size=(3, 3), stride=(1, 1), padding=(1, 1))\n",
      "  (conv4): Conv2d(256, 128, kernel_size=(3, 3), stride=(1, 1), padding=(1, 1))\n",
      "  (conv5): Conv2d(128, 128, kernel_size=(11, 11), stride=(4, 4), padding=(1, 1))\n",
      "  (pool3): MaxPool2d(kernel_size=2, stride=2, padding=1, dilation=1, ceil_mode=False)\n",
      "  (fc1): Linear(in_features=128, out_features=512, bias=True)\n",
      "  (drop1): Dropout(p=0.25, inplace=False)\n",
      "  (bn1): BatchNorm1d(512, eps=1e-05, momentum=0.1, affine=True, track_running_stats=True)\n",
      "  (fc2): Linear(in_features=512, out_features=256, bias=True)\n",
      "  (drop2): Dropout(p=0.2, inplace=False)\n",
      "  (bn2): BatchNorm1d(256, eps=1e-05, momentum=0.1, affine=True, track_running_stats=True)\n",
      "  (fc3): Linear(in_features=256, out_features=128, bias=True)\n",
      "  (drop3): Dropout(p=0.1, inplace=False)\n",
      "  (bn3): BatchNorm1d(128, eps=1e-05, momentum=0.1, affine=True, track_running_stats=True)\n",
      "  (output): Linear(in_features=128, out_features=10, bias=True)\n",
      ")\n"
     ]
    }
   ],
   "source": [
    "class AlexNet(nn.Module):\n",
    "    def __init__(self):\n",
    "        super(AlexNet, self).__init__()\n",
    "        \n",
    "        self.conv1 = nn.Conv2d(in_channels= 3 , out_channels=64 , kernel_size=11 , stride=4 , padding=1)\n",
    "        self.pool1 = nn.MaxPool2d(kernel_size=2 , stride=2 , padding=1)\n",
    "\n",
    "        self.conv2 = nn.Conv2d(in_channels= 64 , out_channels=128  , kernel_size=11 , stride=1 , padding=1)\n",
    "        self.pool2 = nn.MaxPool2d(kernel_size=2 , stride=2 , padding=1)\n",
    "        \n",
    "        self.conv3 = nn.Conv2d(in_channels= 128, out_channels=256 , kernel_size=3 , stride=1 , padding=1)\n",
    "       \n",
    "        self.conv4 = nn.Conv2d(in_channels= 256 , out_channels= 128 , kernel_size=3 , stride=1 , padding=1)\n",
    "\n",
    "        self.conv5 = nn.Conv2d(in_channels= 128, out_channels= 128,  kernel_size=11 , stride=4 , padding=1)\n",
    "        self.pool3 = nn.MaxPool2d(kernel_size=2 , stride=2 , padding=1)\n",
    "        \n",
    "\n",
    "        self.fc1 = nn.Linear(128 , 512)\n",
    "        self.drop1 = nn.Dropout(p=0.25)\n",
    "        self.bn1 = nn.BatchNorm1d(512)\n",
    "\n",
    "        self.fc2 = nn.Linear(512 ,256)\n",
    "        self.drop2 = nn.Dropout(p=0.2)\n",
    "        self.bn2 = nn.BatchNorm1d(256)\n",
    "        \n",
    "\n",
    "        self.fc3 = nn.Linear(256 , 128)\n",
    "        self.drop3= nn.Dropout(p=0.1)\n",
    "        self.bn3 = nn.BatchNorm1d(128)\n",
    "\n",
    "        self.output = nn.Linear(128, 10)\n",
    "\n",
    "    def forward(self, x):\n",
    "        x = F.relu(self.conv1(x))\n",
    "        x = self.pool1(x)\n",
    "\n",
    "        x = F.relu(self.conv2(x))\n",
    "        x = self.pool2(x)\n",
    "\n",
    "        x = F.relu(self.conv3(x))\n",
    "        x = F.relu(self.conv4(x))\n",
    "\n",
    "        x = F.relu(self.conv5(x))\n",
    "        x = self.pool3(x)\n",
    "\n",
    "        x = x.view(x.size(0), -1)\n",
    "        # print(x.shape)\n",
    "\n",
    "        x = self.bn1(F.relu(self.fc1(x)))\n",
    "        x = self.drop1(x)\n",
    "\n",
    "        x = self.bn2(F.relu(self.fc2(x)))\n",
    "        x = self.drop2(x)\n",
    "\n",
    "\n",
    "        x = self.bn3(F.relu(self.fc3(x)))\n",
    "        x = self.drop3(x)\n",
    "\n",
    "        x = F.softmax(self.output(x))\n",
    "\n",
    "        return x\n",
    "\n",
    "\n",
    "def weights_init(m):\n",
    "    if isinstance(m, nn.Conv2d):\n",
    "        nn.init.kaiming_normal_(m.weight, nonlinearity='relu')\n",
    "    elif isinstance(m, nn.Linear):\n",
    "        nn.init.xavier_normal_(m.weight)\n",
    "\n",
    "alexModel = AlexNet()\n",
    "\n",
    "alexModel.apply(weights_init)\n",
    "criterion = nn.CrossEntropyLoss()\n",
    "optimizer = torch.optim.Adam(alexModel.parameters() , lr= 0.0001 , weight_decay=1e-4)        \n",
    "\n",
    "\n",
    "print(alexModel)"
   ]
  },
  {
   "cell_type": "code",
   "execution_count": 69,
   "metadata": {},
   "outputs": [],
   "source": [
    "class EarlyStopping:\n",
    "    def __init__(self,patience=5 , delta=0):\n",
    "        self.patience = patience\n",
    "        self.delta = delta\n",
    "        self.best_score = None\n",
    "        self.early_stop = False\n",
    "        self.counter = 0 \n",
    "        self.best_model_state = None\n",
    "    \n",
    "    def __call__(self,val_loss,model):\n",
    "        score = -val_loss\n",
    "        if self.best_score is None:\n",
    "            self.best_score = score\n",
    "            self.best_model_state = model.state_dict()\n",
    "        \n",
    "        elif score < self.best_score + self.delta:\n",
    "            self.counter += 1\n",
    "            if self.counter >= self.patience:\n",
    "                self.early_stop = True\n",
    "\n",
    "        else:\n",
    "            self.best_score = score\n",
    "            self.best_model_state = model.state_dict()  \n",
    "            self.counter = 0\n",
    "        \n",
    "    def load_best_model(self, model):\n",
    "        model.load_state_dict(self.best_model_state)\n",
    "        \n",
    "\n",
    "\n"
   ]
  },
  {
   "cell_type": "code",
   "execution_count": 70,
   "metadata": {},
   "outputs": [
    {
     "name": "stdout",
     "output_type": "stream",
     "text": [
      "Epoch: 0, Train Loss: 2.2766, Train Accuracy: 0.16%, Val Loss: 0.2276, Val Accuracy: 0.12%\n",
      "Epoch: 1, Train Loss: 2.1984, Train Accuracy: 0.28%, Val Loss: 0.2187, Val Accuracy: 0.24%\n",
      "Epoch: 2, Train Loss: 2.0846, Train Accuracy: 0.41%, Val Loss: 0.2069, Val Accuracy: 0.44%\n",
      "Epoch: 3, Train Loss: 2.0141, Train Accuracy: 0.47%, Val Loss: 0.1936, Val Accuracy: 0.47%\n",
      "Epoch: 4, Train Loss: 2.0184, Train Accuracy: 0.47%, Val Loss: 0.2066, Val Accuracy: 0.43%\n",
      "Epoch: 5, Train Loss: 2.0155, Train Accuracy: 0.46%, Val Loss: 0.2002, Val Accuracy: 0.50%\n",
      "Epoch: 6, Train Loss: 1.9860, Train Accuracy: 0.49%, Val Loss: 0.2097, Val Accuracy: 0.38%\n",
      "Epoch: 7, Train Loss: 1.9696, Train Accuracy: 0.51%, Val Loss: 0.1858, Val Accuracy: 0.51%\n",
      "Epoch: 8, Train Loss: 1.9306, Train Accuracy: 0.55%, Val Loss: 0.1988, Val Accuracy: 0.54%\n",
      "Epoch: 9, Train Loss: 1.9166, Train Accuracy: 0.56%, Val Loss: 0.1969, Val Accuracy: 0.55%\n",
      "Epoch: 10, Train Loss: 1.9054, Train Accuracy: 0.57%, Val Loss: 0.1847, Val Accuracy: 0.56%\n",
      "Epoch: 11, Train Loss: 1.8804, Train Accuracy: 0.59%, Val Loss: 0.1943, Val Accuracy: 0.57%\n",
      "Epoch: 12, Train Loss: 1.8766, Train Accuracy: 0.59%, Val Loss: 0.2142, Val Accuracy: 0.55%\n",
      "Epoch: 13, Train Loss: 1.8764, Train Accuracy: 0.59%, Val Loss: 0.1735, Val Accuracy: 0.57%\n",
      "Epoch: 14, Train Loss: 1.8683, Train Accuracy: 0.61%, Val Loss: 0.1876, Val Accuracy: 0.57%\n"
     ]
    }
   ],
   "source": [
    "if torch.cuda.is_available():\n",
    "    alexModel.cuda()\n",
    "\n",
    "# early_stopping = EarlyStopping(patience= 5 , delta= 0.01)\n",
    "eps = 15\n",
    "\n",
    "\n",
    "train_losses = []\n",
    "val_losses = []\n",
    "\n",
    "train_accuracies = []\n",
    "val_accuracies = []\n",
    "\n",
    "for epoch in range(eps):\n",
    "    train_correct = 0\n",
    "    train_total = 0\n",
    "    running_loss = 0\n",
    "\n",
    "    alexModel.train()\n",
    "\n",
    "    for image , label in train_loader:\n",
    "        image , label = image.cuda() , label.cuda()\n",
    "\n",
    "        optimizer.zero_grad()\n",
    "        outputs = alexModel(image)\n",
    "\n",
    "        loss = criterion(outputs , label)\n",
    "        running_loss += loss.item()\n",
    "\n",
    "        _,predicted = torch.max(outputs.data , 1)\n",
    "        train_total += label.size(0)\n",
    "        train_correct += (predicted == label).sum().item()\n",
    "\n",
    "        loss.backward()\n",
    "        optimizer.step()\n",
    "\n",
    "    \n",
    "    avg_training_loss = running_loss / len(train_loader)\n",
    "    train_accuracy = (train_correct / train_total)\n",
    "\n",
    "    train_losses.append(avg_training_loss)\n",
    "    train_accuracies.append(train_accuracy)\n",
    "\n",
    "    val_correct = 0\n",
    "    val_total = 0\n",
    "    val_running_loss = 0\n",
    "\n",
    "    alexModel.eval()\n",
    "\n",
    "    with torch.no_grad():\n",
    "        for image, label in val_loader:\n",
    "            image , label = image.cuda() , label.cuda()\n",
    "\n",
    "            outputs = alexModel(image)\n",
    "            loss = criterion(outputs , label)\n",
    "            val_running_loss = loss.item()\n",
    "\n",
    "            _,predicted = torch.max(outputs.data , 1)\n",
    "            val_total += label.size(0)\n",
    "            val_correct += (predicted == label).sum().item()\n",
    "            \n",
    "        \n",
    "    avg_val_loss = val_running_loss / len(val_loader)\n",
    "    val_accuracy = (val_correct / val_total)\n",
    "\n",
    "    val_accuracies.append(val_accuracy)\n",
    "    val_losses.append(avg_val_loss)\n",
    "\n",
    "    # early_stopping(avg_val_loss , alexModel)\n",
    "    # print(early_stopping.best_score)\n",
    "    # if early_stopping.early_stop:\n",
    "        \n",
    "    #     print('Earlt Stopping')\n",
    "    #     break\n",
    "\n",
    "    print(f'Epoch: {epoch}, Train Loss: {avg_training_loss:.4f}, Train Accuracy: {train_accuracy:.2f}%, Val Loss: {avg_val_loss:.4f}, Val Accuracy: {val_accuracy:.2f}%')\n",
    "\n",
    "            \n",
    "\n"
   ]
  },
  {
   "cell_type": "code",
   "execution_count": 76,
   "metadata": {},
   "outputs": [
    {
     "data": {
      "image/png": "[encoded data removed]",
      "text/plain": [
       "<Figure size 1000x500 with 1 Axes>"
      ]
     },
     "metadata": {},
     "output_type": "display_data"
    }
   ],
   "source": [
    "\n",
    "plt.figure(figsize=(10, 5))\n",
    "plt.plot(train_accuracies, label='Training Loss')\n",
    "plt.plot(val_accuracies, label='Validation Loss')\n",
    "plt.xlabel('Epochs')\n",
    "plt.ylabel('Loss')\n",
    "plt.title('Training and Validation Loss')\n",
    "plt.legend()\n",
    "plt.show()"
   ]
  },
  {
   "cell_type": "code",
   "execution_count": 77,
   "metadata": {},
   "outputs": [
    {
     "data": {
      "image/png": "[encoded data removed]",
      "text/plain": [
       "<Figure size 1000x500 with 1 Axes>"
      ]
     },
     "metadata": {},
     "output_type": "display_data"
    }
   ],
   "source": [
    "plt.figure(figsize=(10, 5))\n",
    "plt.plot(train_losses, label='Training Loss')\n",
    "plt.plot(val_losses, label='Validation Loss')\n",
    "plt.xlabel('Epochs')\n",
    "plt.ylabel('Loss')\n",
    "plt.title('Training and Validation Loss')\n",
    "plt.legend()\n",
    "plt.show()"
   ]
  },
  {
   "cell_type": "code",
   "execution_count": 78,
   "metadata": {},
   "outputs": [
    {
     "data": {
      "image/png": "[encoded data removed]",
      "text/plain": [
       "<Figure size 1000x700 with 2 Axes>"
      ]
     },
     "metadata": {},
     "output_type": "display_data"
    }
   ],
   "source": [
    "from sklearn.metrics import confusion_matrix\n",
    "import seaborn as sns\n",
    "import matplotlib.pyplot as plt\n",
    "\n",
    "# Initialize lists to store predictions and actual labels\n",
    "all_preds = []\n",
    "all_labels = []\n",
    "\n",
    "# Switch model to evaluation mode\n",
    "alexModel.eval()\n",
    "with torch.no_grad():\n",
    "    for image, label in val_loader:\n",
    "        if torch.cuda.is_available():\n",
    "            image, label = image.cuda(), label.cuda()\n",
    "        \n",
    "        # Get model output\n",
    "        outputs = alexModel(image)\n",
    "        \n",
    "        # Get predicted classes\n",
    "        _, predicted = torch.max(outputs.data, 1)\n",
    "        \n",
    "        # Store predictions and actual labels\n",
    "        all_preds.extend(predicted.cpu().numpy())  # Move to CPU and convert to numpy\n",
    "        all_labels.extend(label.cpu().numpy())  # Move to CPU and convert to numpy\n",
    "\n",
    "# Create confusion matrix\n",
    "cm = confusion_matrix(all_labels, all_preds)\n",
    "\n",
    "# Plot confusion matrix using seaborn for better visualization\n",
    "plt.figure(figsize=(10,7))\n",
    "sns.heatmap(cm, annot=True, fmt=\"d\", cmap=\"Blues\")\n",
    "plt.xlabel('Predicted Labels')\n",
    "plt.ylabel('True Labels')\n",
    "plt.title('Confusion Matrix for Validation Set')\n",
    "plt.show()\n"
   ]
  },
  {
   "cell_type": "code",
   "execution_count": 79,
   "metadata": {},
   "outputs": [
    {
     "name": "stdout",
     "output_type": "stream",
     "text": [
      "F1 Score: 0.5052, Precision: 0.5058, Recall: 0.5625\n"
     ]
    }
   ],
   "source": [
    "from sklearn.metrics import f1_score\n",
    "from sklearn.metrics import precision_score, recall_score\n",
    "\n",
    "f1 = f1_score(all_labels, all_preds, average='weighted')  \n",
    "precision = precision_score(all_labels, all_preds, average='weighted') \n",
    "recall = recall_score(all_labels, all_preds, average='weighted')  \n",
    "\n",
    "print(f'F1 Score: {f1:.4f}, Precision: {precision:.4f}, Recall: {recall:.4f}')\n"
   ]
  },
  {
   "cell_type": "code",
   "execution_count": 80,
   "metadata": {},
   "outputs": [
    {
     "name": "stdout",
     "output_type": "stream",
     "text": [
      "[1, 8, 9, 6, 1, 0, 3, 2, 2, 1, 1, 9, 1, 6, 2, 2, 1, 2, 2, 2, 6, 2, 9, 2, 2, 6, 3, 8, 1, 1, 2, 6, 2, 0, 8, 2, 8, 2, 7, 2, 0, 0, 2, 1, 0, 2, 6, 6, 2, 6, 7, 2, 0, 9, 9, 7, 9, 6, 2, 8, 2, 3, 0, 0, 9, 2, 8, 2, 2, 1, 9, 6, 6, 1, 1, 0, 2, 2, 2, 6, 2, 8, 8, 1, 1, 6, 1, 7, 9, 1, 8, 2, 1, 1, 8, 9, 1, 2, 1, 9, 0, 2, 2, 9, 9, 1, 1, 1, 6, 1, 1, 2, 8, 1, 6, 2, 2, 9, 6, 9, 2, 9, 8, 0, 0, 8, 0, 1, 0, 0, 9, 6, 8, 0, 0, 0, 9, 2, 1, 0, 2, 0, 9, 0, 8, 6, 9, 2, 1, 1, 2, 9, 2, 0, 0, 9, 1, 6, 9, 2, 9, 2, 9, 8, 3, 0, 6, 1, 1, 3, 7, 8, 8, 6, 2, 0, 1, 0, 2, 6, 2, 3, 1, 2, 2, 1, 6]\n"
     ]
    }
   ],
   "source": [
    "test_predictions = []\n",
    "\n",
    "alexModel.eval()\n",
    "with torch.no_grad():\n",
    "    for batch in test_loader:  # Expecting that batch is a list or tuple\n",
    "        image = batch[0]  # Extract the image from the list\n",
    "\n",
    "        if torch.cuda.is_available():\n",
    "            image = image.cuda()\n",
    "\n",
    "        # Get model output (logits or softmax probabilities)\n",
    "        outputs = alexModel(image)\n",
    "\n",
    "        # Get predicted classes\n",
    "        _, predicted = torch.max(outputs.data, 1)\n",
    "\n",
    "        # Save predictions in the list\n",
    "        test_predictions.extend(predicted.cpu().numpy())  # Move to CPU and convert to numpy array\n",
    "\n",
    "# Now `test_predictions` contains the predicted class for each test sample\n",
    "print(test_predictions)\n"
   ]
  },
  {
   "cell_type": "code",
   "execution_count": null,
   "metadata": {},
   "outputs": [],
   "source": []
  }
 ],
 "metadata": {
  "kernelspec": {
   "display_name": "base",
   "language": "python",
   "name": "python3"
  },
  "language_info": {
   "codemirror_mode": {
    "name": "ipython",
    "version": 3
   },
   "file_extension": ".py",
   "mimetype": "text/x-python",
   "name": "python",
   "nbconvert_exporter": "python",
   "pygments_lexer": "ipython3",
   "version": "3.11.7"
  }
 },
 "nbformat": 4,
 "nbformat_minor": 2
}
