{
 "cells": [
  {
   "cell_type": "code",
   "execution_count": 3,
   "metadata": {},
   "outputs": [
    {
     "name": "stdout",
     "output_type": "stream",
     "text": [
      "E:\\Projets\\Datasets - Pytorch\\Food\\hub\\train loaded successfully.\n",
      "\n",
      "E:\\Projets\\Datasets - Pytorch\\Food\\hub\\val loaded successfully.\n",
      "\n",
      "E:\\Projets\\Datasets - Pytorch\\Food\\hub\\test loaded successfully.\n",
      "\n"
     ]
    },
    {
     "name": "stderr",
     "output_type": "stream",
     "text": []
    }
   ],
   "source": [
    "import hub\n",
    "\n",
    "# Load the datasets\n",
    "ds_train = hub.load(r\"E:\\Projets\\Datasets - Pytorch\\Food\\hub\\train\", read_only=True)\n",
    "ds_val = hub.load(r\"E:\\Projets\\Datasets - Pytorch\\Food\\hub\\val\", read_only=True)\n",
    "ds_test = hub.load(r\"E:\\Projets\\Datasets - Pytorch\\Food\\hub\\test\", read_only=True)\n",
    "\n",
    "# Check the keys in the dataset\n"
   ]
  },
  {
   "cell_type": "code",
   "execution_count": 4,
   "metadata": {},
   "outputs": [
    {
     "name": "stdout",
     "output_type": "stream",
     "text": [
      "Training samples: 7992\n",
      "Validation samples: 200\n",
      "Test samples: 600\n"
     ]
    }
   ],
   "source": [
    "import torch\n",
    "from torch.utils.data import Dataset, DataLoader, Subset\n",
    "from torchvision import transforms\n",
    "import hub\n",
    "import numpy as np\n",
    "\n",
    "# Define the transformation for the images (you can modify this)\n",
    "data_transforms = transforms.Compose([\n",
    "    transforms.Resize(size=(224, 224)),\n",
    "    transforms.RandomRotation(20),\n",
    "    transforms.RandomHorizontalFlip(),\n",
    "    transforms.RandomVerticalFlip(),\n",
    "    transforms.GaussianBlur(kernel_size=(5, 9), sigma=(0.1, 5)),\n",
    "    transforms.ToTensor(),\n",
    "    transforms.Normalize(mean=[0.485, 0.456, 0.406], std=[0.229, 0.224, 0.225])\n",
    "])\n",
    "\n",
    "# Custom Dataset class to wrap the hub dataset\n",
    "from PIL import Image\n",
    "\n",
    "class HubDataset(Dataset):\n",
    "    def __init__(self, hub_dataset, transform=None):\n",
    "        self.dataset = hub_dataset\n",
    "        self.transform = transform\n",
    "\n",
    "    def __len__(self):\n",
    "        return len(self.dataset['images'])  # Assuming 'images' is the key for images\n",
    "\n",
    "    def __getitem__(self, idx):\n",
    "        # Get image (assuming 'images' is the correct key)\n",
    "        image = self.dataset['images'][idx].numpy()\n",
    "\n",
    "        # Convert the NumPy array to a PIL image\n",
    "        image = Image.fromarray(image)\n",
    "\n",
    "        # Get category index from 'categories'\n",
    "        category_index = self.dataset['categories'][idx].numpy()[0]  # Adjust based on label format\n",
    "        \n",
    "        # Apply transformation to the image\n",
    "        if self.transform:\n",
    "            image = self.transform(image)\n",
    "\n",
    "        # Convert category index to tensor\n",
    "        label = torch.tensor(category_index, dtype=torch.long)\n",
    "        \n",
    "        return image, label\n",
    "\n",
    "\n",
    "\n",
    "# Create PyTorch datasets\n",
    "train_dataset = HubDataset(ds_train, transform=data_transforms)\n",
    "val_dataset = HubDataset(ds_val, transform=data_transforms)\n",
    "test_dataset = HubDataset(ds_test, transform=data_transforms)\n",
    "\n",
    "\n",
    "def get_subset_indices(dataset, percentage=0.1):\n",
    "    total_samples = len(dataset)\n",
    "    indices = list(range(total_samples))\n",
    "    np.random.shuffle(indices)  # Shuffle the indices\n",
    "    subset_size = int(percentage * total_samples)\n",
    "    return indices[:subset_size]\n",
    "\n",
    "# Step 2: Get 20% of the data\n",
    "train_indices = get_subset_indices(train_dataset, percentage=0.2)\n",
    "val_indices = get_subset_indices(val_dataset, percentage=0.2)\n",
    "test_indices = get_subset_indices(test_dataset, percentage=0.2)\n",
    "\n",
    "\n",
    "train_subset = Subset(train_dataset, train_indices)\n",
    "val_subset = Subset(val_dataset, val_indices)\n",
    "test_subset = Subset(test_dataset, test_indices)\n",
    "\n",
    "train_loader = DataLoader(train_subset, batch_size=32, shuffle=True)\n",
    "val_loader = DataLoader(val_subset, batch_size=32, shuffle=False)\n",
    "test_loader = DataLoader(test_subset, batch_size=32, shuffle=False)\n",
    "\n",
    "# Example: Check the size of the dataloaders\n",
    "print(f\"Training samples: {len(train_loader.dataset)}\")\n",
    "print(f\"Validation samples: {len(val_loader.dataset)}\")\n",
    "print(f\"Test samples: {len(test_loader.dataset)}\")\n"
   ]
  },
  {
   "cell_type": "code",
   "execution_count": 5,
   "metadata": {},
   "outputs": [
    {
     "name": "stderr",
     "output_type": "stream",
     "text": [
      "Using cache found in C:\\Users\\Shaikh Abdul Rafay/.cache\\torch\\hub\\pytorch_vision_v0.10.0\n",
      "c:\\Users\\Shaikh Abdul Rafay\\anaconda3\\Lib\\site-packages\\torchvision\\models\\_utils.py:208: UserWarning: The parameter 'pretrained' is deprecated since 0.13 and may be removed in the future, please use 'weights' instead.\n",
      "  warnings.warn(\n",
      "c:\\Users\\Shaikh Abdul Rafay\\anaconda3\\Lib\\site-packages\\torchvision\\models\\_utils.py:223: UserWarning: Arguments other than a weight enum or `None` for 'weights' are deprecated since 0.13 and may be removed in the future. The current behavior is equivalent to passing `weights=GoogLeNet_Weights.IMAGENET1K_V1`. You can also use `weights=GoogLeNet_Weights.DEFAULT` to get the most up-to-date weights.\n",
      "  warnings.warn(msg)\n"
     ]
    }
   ],
   "source": [
    "import torch\n",
    "import torch.nn as nn\n",
    "\n",
    "Alexmodel = model = torch.hub.load('pytorch/vision:v0.10.0', 'googlenet', pretrained=True)\n",
    "\n",
    "def weights_init(m):\n",
    "    if isinstance(m, nn.Conv2d):\n",
    "        nn.init.kaiming_normal_(m.weight, nonlinearity='relu')\n",
    "    elif isinstance(m, nn.Linear):\n",
    "        nn.init.xavier_normal_(m.weight)\n",
    "\n",
    "Alexmodel.apply(weights_init)\n",
    "criterion = nn.CrossEntropyLoss()\n",
    "optimizer = torch.optim.Adam(Alexmodel.parameters() , lr= 0.0001 , weight_decay=1e-4)  "
   ]
  },
  {
   "cell_type": "code",
   "execution_count": 6,
   "metadata": {},
   "outputs": [
    {
     "name": "stdout",
     "output_type": "stream",
     "text": [
      "Epoch: 0, Train Loss: 1886.0566, Train Accuracy: 0.00%, Val Loss: 6.8747, Val Accuracy: 0.00%\n",
      "Epoch: 1, Train Loss: 950.3702, Train Accuracy: 0.02%, Val Loss: 6.7233, Val Accuracy: 0.07%\n",
      "Epoch: 2, Train Loss: 488.7217, Train Accuracy: 0.07%, Val Loss: 6.6837, Val Accuracy: 0.07%\n"
     ]
    }
   ],
   "source": [
    "# Move model to device\n",
    "device = torch.device(\"cuda\" if torch.cuda.is_available() else \"cpu\")\n",
    "Alexmodel.to(device)\n",
    "\n",
    "# Early stopping and epochs\n",
    "eps = 3\n",
    "train_losses = []\n",
    "val_losses = []\n",
    "train_accuracies = []\n",
    "val_accuracies = []\n",
    "\n",
    "for epoch in range(eps):\n",
    "    train_correct = 0\n",
    "    train_total = 0\n",
    "    running_loss = 0\n",
    "\n",
    "    Alexmodel.train()\n",
    "\n",
    "    for image, categories in train_loader:\n",
    "        image, categories = image.to(device), categories.to(device)\n",
    "        optimizer.zero_grad()\n",
    "        outputs = Alexmodel(image)\n",
    "\n",
    "        loss = criterion(outputs, categories)\n",
    "        l1_norm = sum(p.abs().sum() for p in Alexmodel.parameters())\n",
    "        loss += 0.01 * l1_norm\n",
    "\n",
    "        _, predicted = torch.max(outputs.data, 1)\n",
    "        train_total += categories.size(0)\n",
    "        train_correct += (predicted == categories).sum().item()\n",
    "\n",
    "        loss.backward()\n",
    "        running_loss += loss.item()\n",
    "        optimizer.step()\n",
    "\n",
    "    avg_training_loss = running_loss / len(train_loader)\n",
    "    train_accuracy = (train_correct / train_total)\n",
    "    train_losses.append(avg_training_loss)\n",
    "    train_accuracies.append(train_accuracy)\n",
    "\n",
    "    val_correct = 0\n",
    "    val_total = 0\n",
    "    val_running_loss = 0\n",
    "\n",
    "    Alexmodel.eval()\n",
    "    with torch.no_grad():\n",
    "        for image, categories in val_loader:\n",
    "            image, categories = image.to(device), categories.to(device)\n",
    "            outputs = Alexmodel(image)\n",
    "            loss = criterion(outputs, categories)\n",
    "            val_running_loss += loss.item()  \n",
    "\n",
    "            _, predicted = torch.max(outputs.data, 1)\n",
    "            val_total += categories.size(0)\n",
    "            val_correct += (predicted == categories).sum().item()\n",
    "\n",
    "    avg_val_loss = val_running_loss / len(val_loader)  \n",
    "    val_accuracy = (val_correct / val_total)\n",
    "\n",
    "    val_accuracies.append(val_accuracy)\n",
    "    val_losses.append(avg_val_loss)\n",
    "\n",
    "    # Print results\n",
    "    print(f'Epoch: {epoch}, Train Loss: {avg_training_loss:.4f}, Train Accuracy: {train_accuracy:.2f}%, Val Loss: {avg_val_loss:.4f}, Val Accuracy: {val_accuracy:.2f}%')\n"
   ]
  },
  {
   "cell_type": "code",
   "execution_count": 13,
   "metadata": {},
   "outputs": [
    {
     "name": "stdout",
     "output_type": "stream",
     "text": [
      "{'images': Tensor(key='images'), 'images_meta': Tensor(key='images_meta')}\n"
     ]
    }
   ],
   "source": [
    "print(ds_test.tensors)\n"
   ]
  },
  {
   "cell_type": "code",
   "execution_count": null,
   "metadata": {},
   "outputs": [],
   "source": []
  }
 ],
 "metadata": {
  "kernelspec": {
   "display_name": "base",
   "language": "python",
   "name": "python3"
  },
  "language_info": {
   "codemirror_mode": {
    "name": "ipython",
    "version": 3
   },
   "file_extension": ".py",
   "mimetype": "text/x-python",
   "name": "python",
   "nbconvert_exporter": "python",
   "pygments_lexer": "ipython3",
   "version": "3.11.7"
  }
 },
 "nbformat": 4,
 "nbformat_minor": 2
}
